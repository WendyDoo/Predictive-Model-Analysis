{
 "cells": [
  {
   "cell_type": "code",
   "execution_count": null,
   "id": "5c7cae4e",
   "metadata": {},
   "outputs": [],
   "source": [
    "# Add more date-related features\n",
    "df['month'] = df['date'].dt.month\n",
    "df['day_of_week'] = df['date'].dt.dayofweek\n",
    "\n",
    "# Recreate the feature matrix with new features\n",
    "X = df[['day_of_year', 'month', 'day_of_week', 'marketing_spend', 'new_customers', 'website_visits', 'ad_clicks']]\n",
    "y = df['sales']\n",
    "\n",
    "# Split the data again\n",
    "X_train, X_test, y_train, y_test = train_test_split(X, y, test_size=0.2, random_state=42)\n"
   ]
  },
  {
   "cell_type": "code",
   "execution_count": null,
   "id": "4761b7f1",
   "metadata": {},
   "outputs": [],
   "source": [
    "from sklearn.ensemble import RandomForestRegressor\n",
    "\n",
    "# Train the Random Forest model\n",
    "rf_model = RandomForestRegressor(n_estimators=100, random_state=42)\n",
    "rf_model.fit(X_train, y_train)\n",
    "\n",
    "# Predict on the test set\n",
    "y_pred_rf = rf_model.predict(X_test)\n",
    "\n",
    "# Evaluate the model\n",
    "mse_rf = mean_squared_error(y_test, y_pred_rf)\n",
    "r2_rf = r2_score(y_test, y_pred_rf)\n",
    "\n",
    "print(f'Random Forest Mean Squared Error: {mse_rf}')\n",
    "print(f'Random Forest R^2 Score: {r2_rf}')\n"
   ]
  },
  {
   "cell_type": "code",
   "execution_count": null,
   "id": "29a0d5ee",
   "metadata": {},
   "outputs": [],
   "source": [
    "# Generate future dates and features\n",
    "future_dates = pd.date_range(start='2024-01-01', end='2024-03-31', freq='D')\n",
    "future_df = pd.DataFrame({\n",
    "    'date': future_dates,\n",
    "    'day_of_year': future_dates.dayofyear,\n",
    "    'month': future_dates.month,\n",
    "    'day_of_week': future_dates.dayofweek,\n",
    "    'marketing_spend': np.random.normal(loc=1000, scale=200, size=len(future_dates)),\n",
    "    'new_customers': np.random.poisson(lam=20, size=len(future_dates)),\n",
    "    'website_visits': np.random.normal(loc=3000, scale=500, size=len(future_dates)),\n",
    "    'ad_clicks': np.random.normal(loc=1500, scale=300, size=len(future_dates))\n",
    "})\n",
    "\n",
    "# Ensure no negative values\n",
    "future_df['marketing_spend'] = future_df['marketing_spend'].clip(lower=0)\n",
    "future_df['website_visits'] = future_df['website_visits'].clip(lower=0)\n",
    "future_df['ad_clicks'] = future_df['ad_clicks'].clip(lower=0)\n",
    "\n",
    "# Predict future sales\n",
    "future_X = future_df[['day_of_year', 'month', 'day_of_week', 'marketing_spend', 'new_customers', 'website_visits', 'ad_clicks']]\n",
    "future_df['predicted_sales'] = rf_model.predict(future_X)\n",
    "\n",
    "# Plot future sales predictions\n",
    "plt.figure(figsize=(12, 6))\n",
    "sns.lineplot(x='date', y='predicted_sales', data=future_df)\n",
    "plt.title('Predicted Sales for the Next Few Months')\n",
    "plt.xlabel('Date')\n",
    "plt.ylabel('Predicted Sales')\n",
    "plt.show()\n"
   ]
  },
  {
   "cell_type": "markdown",
   "id": "83302e08",
   "metadata": {},
   "source": [
    "### Summary of Improvements\n",
    "1.Feature Engineering: Added new features like month and day_of_week to better capture seasonality and trends.\n",
    "\n",
    "\n",
    "2.Advanced Model: Switched to a more robust algorithm, RandomForestRegressor, to capture more complex relationships in the data."
   ]
  },
  {
   "cell_type": "code",
   "execution_count": null,
   "id": "1d74f9f6",
   "metadata": {},
   "outputs": [],
   "source": []
  }
 ],
 "metadata": {
  "kernelspec": {
   "display_name": "Python 3 (ipykernel)",
   "language": "python",
   "name": "python3"
  },
  "language_info": {
   "codemirror_mode": {
    "name": "ipython",
    "version": 3
   },
   "file_extension": ".py",
   "mimetype": "text/x-python",
   "name": "python",
   "nbconvert_exporter": "python",
   "pygments_lexer": "ipython3",
   "version": "3.8.12"
  }
 },
 "nbformat": 4,
 "nbformat_minor": 5
}
